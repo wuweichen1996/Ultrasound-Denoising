{
 "cells": [
  {
   "cell_type": "code",
   "execution_count": 1,
   "metadata": {},
   "outputs": [
    {
     "name": "stderr",
     "output_type": "stream",
     "text": [
      "/opt/software/anaconda/3/lib/python3.6/site-packages/h5py/__init__.py:36: FutureWarning: Conversion of the second argument of issubdtype from `float` to `np.floating` is deprecated. In future, it will be treated as `np.float64 == np.dtype(float).type`.\n",
      "  from ._conv import register_converters as _register_converters\n",
      "Using TensorFlow backend.\n"
     ]
    }
   ],
   "source": [
    "# -*- coding: utf-8 -*-\n",
    "import os, time, glob,sys\n",
    "import PIL.Image as Image\n",
    "import numpy as np\n",
    "import cv2\n",
    "from keras import backend as K\n",
    "os.environ['KERAS_BACKEND'] = 'tensorflow'\n",
    "from keras.callbacks import CSVLogger, ModelCheckpoint, LearningRateScheduler\n",
    "from keras.layers import  Input,Conv2D,BatchNormalization,Activation,Lambda,Subtract\n",
    "from keras.models import Model\n",
    "from keras.optimizers import Adam\n",
    "from skimage.measure import compare_psnr, compare_ssim\n",
    "from util import getdatset\n",
    "%matplotlib inline\n",
    "import matplotlib.pyplot as plt"
   ]
  },
  {
   "cell_type": "code",
   "execution_count": 2,
   "metadata": {},
   "outputs": [],
   "source": [
    "train_xh,test_xh,train_xl,test_xl = getdatset(1000,1000)"
   ]
  },
  {
   "cell_type": "code",
   "execution_count": 3,
   "metadata": {},
   "outputs": [],
   "source": [
    "def myKLD(y_true,y_pred):\n",
    "    u = K.clip(y_true,1,255)\n",
    "    f = K.clip(y_pred,1,255)\n",
    "    z=K.log(u)\n",
    "    KLD = K.sum((f*K.exp(-z/2)*K.log(f / K.exp(z)) - f*K.exp(-z/2) + K.exp(z/2)),axis=-1)\n",
    "    return KLD\n",
    "\n",
    "def res_block(input_img):\n",
    "    x = Conv2D(filters=64, kernel_size=(3,3), strides=(1,1), padding='same')(input_img)\n",
    "    x = BatchNormalization(axis=-1, epsilon=1e-3)(x)\n",
    "    x = Activation('relu')(x) \n",
    "    x = Subtract()([input_img, x])\n",
    "    return x\n",
    "        \n",
    "def DnCNN():\n",
    "    \n",
    "    inpt = Input(shape=(128,128,1), name='tmp_input')\n",
    "    # 1st layer, Conv+relu\n",
    "    x = Conv2D(filters=64, kernel_size=(3,3), strides=(1,1), padding='same')(inpt)\n",
    "    x = Activation('relu')(x)\n",
    "    # 15 layers, Conv+BN+relu\n",
    "    for i in range(15):\n",
    "        x = res_block(x) \n",
    "    # last layer, Conv\n",
    "    x = Conv2D(filters=1, kernel_size=(3,3), strides=(1,1), padding='same')(x)\n",
    "    model = Model(inputs=inpt, outputs=x)\n",
    "    \n",
    "    return model"
   ]
  },
  {
   "cell_type": "code",
   "execution_count": 4,
   "metadata": {},
   "outputs": [
    {
     "name": "stdout",
     "output_type": "stream",
     "text": [
      "Train on 1000 samples, validate on 1000 samples\n",
      "Epoch 1/50\n",
      "1000/1000 [==============================] - 72s 72ms/step - loss: 486.3055 - val_loss: 148.2681\n",
      "Epoch 2/50\n",
      "1000/1000 [==============================] - 68s 68ms/step - loss: 139.3949 - val_loss: 138.1801\n",
      "Epoch 3/50\n",
      "1000/1000 [==============================] - 68s 68ms/step - loss: 135.1318 - val_loss: 133.0189\n",
      "Epoch 4/50\n",
      "1000/1000 [==============================] - 68s 68ms/step - loss: 132.6303 - val_loss: 135.3219\n",
      "Epoch 5/50\n",
      "1000/1000 [==============================] - 68s 68ms/step - loss: 130.9804 - val_loss: 128.5396\n",
      "Epoch 6/50\n",
      "1000/1000 [==============================] - 68s 68ms/step - loss: 130.1681 - val_loss: 132.4864\n",
      "Epoch 7/50\n",
      "1000/1000 [==============================] - 68s 68ms/step - loss: 129.2693 - val_loss: 126.5797\n",
      "Epoch 8/50\n",
      "1000/1000 [==============================] - 68s 68ms/step - loss: 129.0263 - val_loss: 126.6031\n",
      "Epoch 9/50\n",
      "1000/1000 [==============================] - 68s 68ms/step - loss: 128.2200 - val_loss: 128.3562\n",
      "Epoch 10/50\n",
      "1000/1000 [==============================] - 68s 68ms/step - loss: 128.1676 - val_loss: 124.9525\n",
      "Epoch 11/50\n",
      "1000/1000 [==============================] - 68s 68ms/step - loss: 127.6189 - val_loss: 144.1834\n",
      "Epoch 12/50\n",
      "1000/1000 [==============================] - 68s 68ms/step - loss: 127.3173 - val_loss: 126.6745\n",
      "Epoch 13/50\n",
      "1000/1000 [==============================] - 68s 68ms/step - loss: 126.7888 - val_loss: 124.4697\n",
      "Epoch 14/50\n",
      "1000/1000 [==============================] - 68s 68ms/step - loss: 126.4924 - val_loss: 124.3048\n",
      "Epoch 15/50\n",
      "1000/1000 [==============================] - 68s 68ms/step - loss: 126.4722 - val_loss: 129.5271\n",
      "Epoch 16/50\n",
      "1000/1000 [==============================] - 68s 68ms/step - loss: 126.2264 - val_loss: 123.2957\n",
      "Epoch 17/50\n",
      "1000/1000 [==============================] - 68s 68ms/step - loss: 125.8341 - val_loss: 125.7548\n",
      "Epoch 18/50\n",
      "1000/1000 [==============================] - 68s 68ms/step - loss: 125.6387 - val_loss: 123.9101\n",
      "Epoch 19/50\n",
      "1000/1000 [==============================] - 68s 68ms/step - loss: 125.6909 - val_loss: 124.7316\n",
      "Epoch 20/50\n",
      "1000/1000 [==============================] - 68s 68ms/step - loss: 125.3200 - val_loss: 123.7332\n",
      "Epoch 21/50\n",
      "1000/1000 [==============================] - 68s 68ms/step - loss: 125.0712 - val_loss: 124.0259\n",
      "Epoch 22/50\n",
      "1000/1000 [==============================] - 68s 68ms/step - loss: 124.9846 - val_loss: 126.1145\n",
      "Epoch 23/50\n",
      "1000/1000 [==============================] - 68s 68ms/step - loss: 124.7807 - val_loss: 125.1746\n",
      "Epoch 24/50\n",
      "1000/1000 [==============================] - 68s 68ms/step - loss: 124.5632 - val_loss: 122.1456\n",
      "Epoch 25/50\n",
      "1000/1000 [==============================] - 68s 68ms/step - loss: 124.5460 - val_loss: 124.1006\n",
      "Epoch 26/50\n",
      "1000/1000 [==============================] - 68s 68ms/step - loss: 124.4111 - val_loss: 123.2876\n",
      "Epoch 27/50\n",
      "1000/1000 [==============================] - 68s 68ms/step - loss: 124.4125 - val_loss: 123.4709\n",
      "Epoch 28/50\n",
      "1000/1000 [==============================] - 68s 68ms/step - loss: 124.1784 - val_loss: 131.8973\n",
      "Epoch 29/50\n",
      "1000/1000 [==============================] - 68s 68ms/step - loss: 124.0888 - val_loss: 129.7304\n",
      "Epoch 30/50\n",
      "1000/1000 [==============================] - 68s 68ms/step - loss: 124.0526 - val_loss: 124.3517\n",
      "Epoch 31/50\n",
      "1000/1000 [==============================] - 68s 68ms/step - loss: 123.9259 - val_loss: 122.6544\n",
      "Epoch 32/50\n",
      "1000/1000 [==============================] - 68s 68ms/step - loss: 123.6014 - val_loss: 124.3833\n",
      "Epoch 33/50\n",
      "1000/1000 [==============================] - 68s 68ms/step - loss: 123.5339 - val_loss: 123.6380\n",
      "Epoch 34/50\n",
      "1000/1000 [==============================] - 68s 68ms/step - loss: 123.4306 - val_loss: 122.0870\n",
      "Epoch 35/50\n",
      "1000/1000 [==============================] - 68s 68ms/step - loss: 123.2322 - val_loss: 127.7135\n",
      "Epoch 36/50\n",
      "1000/1000 [==============================] - 68s 68ms/step - loss: 123.4418 - val_loss: 123.8227\n",
      "Epoch 37/50\n",
      "1000/1000 [==============================] - 68s 68ms/step - loss: 123.1180 - val_loss: 120.9054\n",
      "Epoch 38/50\n",
      "1000/1000 [==============================] - 68s 68ms/step - loss: 123.0296 - val_loss: 122.7923\n",
      "Epoch 39/50\n",
      "1000/1000 [==============================] - 68s 68ms/step - loss: 122.9493 - val_loss: 122.3597\n",
      "Epoch 40/50\n",
      "1000/1000 [==============================] - 68s 68ms/step - loss: 122.9463 - val_loss: 123.6896\n",
      "Epoch 41/50\n",
      "1000/1000 [==============================] - 68s 68ms/step - loss: 122.8241 - val_loss: 120.8720\n",
      "Epoch 42/50\n",
      "1000/1000 [==============================] - 68s 68ms/step - loss: 122.6478 - val_loss: 122.8285\n",
      "Epoch 43/50\n",
      "1000/1000 [==============================] - 68s 68ms/step - loss: 122.5155 - val_loss: 123.7729\n",
      "Epoch 44/50\n",
      "1000/1000 [==============================] - 68s 68ms/step - loss: 122.5810 - val_loss: 126.1244\n",
      "Epoch 45/50\n",
      "1000/1000 [==============================] - 68s 68ms/step - loss: 122.9227 - val_loss: 122.7173\n",
      "Epoch 46/50\n",
      "1000/1000 [==============================] - 68s 68ms/step - loss: 122.6696 - val_loss: 120.5000\n",
      "Epoch 47/50\n",
      "1000/1000 [==============================] - 68s 68ms/step - loss: 122.2299 - val_loss: 123.6343\n",
      "Epoch 48/50\n",
      "1000/1000 [==============================] - 68s 68ms/step - loss: 122.3871 - val_loss: 120.5095\n",
      "Epoch 49/50\n",
      "1000/1000 [==============================] - 68s 68ms/step - loss: 122.1666 - val_loss: 123.8225\n",
      "Epoch 50/50\n",
      "1000/1000 [==============================] - 68s 68ms/step - loss: 122.3350 - val_loss: 122.7875\n"
     ]
    }
   ],
   "source": [
    "model = DnCNN()\n",
    "model.compile(optimizer=Adam(), loss='mse')\n",
    "history=model.fit(train_xl,train_xh,\n",
    "                      epochs=50,\n",
    "                      batch_size=8,\n",
    "                      shuffle=True,\n",
    "                      verbose=1,\n",
    "                      validation_data=(test_xl,test_xh),)"
   ]
  },
  {
   "cell_type": "code",
   "execution_count": 5,
   "metadata": {},
   "outputs": [
    {
     "data": {
      "text/plain": [
       "<matplotlib.legend.Legend at 0x7fe513bbb278>"
      ]
     },
     "execution_count": 5,
     "metadata": {},
     "output_type": "execute_result"
    },
    {
     "data": {
      "image/png": "[encoded data removed]",
      "text/plain": [
       "<matplotlib.figure.Figure at 0x7fe51a6aa278>"
      ]
     },
     "metadata": {},
     "output_type": "display_data"
    }
   ],
   "source": [
    "import pylab as pl\n",
    "pl.figure()\n",
    "pl.plot(history.history['loss'], label='train loss')\n",
    "pl.plot(history.history['val_loss'], c='g', label='val loss')\n",
    "pl.legend()"
   ]
  },
  {
   "cell_type": "code",
   "execution_count": 6,
   "metadata": {},
   "outputs": [],
   "source": [
    "model.save(\"DnCNN15_MSE_0605.h5\")\n",
    "model.save_weights(\"DnCNN15_MSE_0605w.h5\")"
   ]
  },
  {
   "cell_type": "code",
   "execution_count": null,
   "metadata": {},
   "outputs": [],
   "source": []
  }
 ],
 "metadata": {
  "kernelspec": {
   "display_name": "Python 3",
   "language": "python",
   "name": "python3"
  },
  "language_info": {
   "codemirror_mode": {
    "name": "ipython",
    "version": 3
   },
   "file_extension": ".py",
   "mimetype": "text/x-python",
   "name": "python",
   "nbconvert_exporter": "python",
   "pygments_lexer": "ipython3",
   "version": "3.6.4"
  }
 },
 "nbformat": 4,
 "nbformat_minor": 2
}
