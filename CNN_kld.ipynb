{
 "cells": [
  {
   "cell_type": "code",
   "execution_count": 1,
   "metadata": {},
   "outputs": [
    {
     "name": "stderr",
     "output_type": "stream",
     "text": [
      "/opt/software/anaconda/3/lib/python3.6/site-packages/h5py/__init__.py:36: FutureWarning: Conversion of the second argument of issubdtype from `float` to `np.floating` is deprecated. In future, it will be treated as `np.float64 == np.dtype(float).type`.\n",
      "  from ._conv import register_converters as _register_converters\n",
      "Using TensorFlow backend.\n"
     ]
    }
   ],
   "source": [
    "import tensorflow as tf\n",
    "import os\n",
    "os.environ['KERAS_BACKEND'] = 'tensorflow'\n",
    "# os.environ['CUDA_VISIBLE_DEVICES']='1,2,3'\n",
    "import gc\n",
    "import keras.backend as K\n",
    "from keras import Input\n",
    "import numpy as np\n",
    "from keras.layers import MaxPooling2D, UpSampling2D, Conv2D, Dropout,Concatenate,BatchNormalization\n",
    "from keras.models import Model, load_model\n",
    "from util import getdatset, cclt_psnr\n",
    "%matplotlib inline\n",
    "import matplotlib.pyplot as plt\n",
    "\n",
    "train_xh,test_xh,train_xl,test_xl = getdatset(1000,1000)\n",
    "#print(train_xh.shape[0])\n",
    "#print(train_xl.shape[0])\n",
    "#print(test_xh.shape[0])\n",
    "#print(test_xl.shape[0])\n",
    "\n",
    "def myKLD(y_true,y_pred):\n",
    "    y_true = K.clip(y_true,1,255)\n",
    "    y_pred = K.clip(y_pred,1,255)\n",
    "    u=y_true\n",
    "    f=y_pred\n",
    "    KLD = K.sum((f / K.sqrt(u) * K.log (f / u) - f / K.sqrt(u) + K.sqrt(u)),axis=-1)\n",
    "    return KLD"
   ]
  },
  {
   "cell_type": "code",
   "execution_count": 10,
   "metadata": {},
   "outputs": [
    {
     "name": "stdout",
     "output_type": "stream",
     "text": [
      "Train on 1000 samples, validate on 1000 samples\n",
      "Epoch 1/50\n",
      "1000/1000 [==============================] - 46s 46ms/step - loss: 6536.8292 - val_loss: 3052.7202\n",
      "Epoch 2/50\n",
      "1000/1000 [==============================] - 44s 44ms/step - loss: 1257.0189 - val_loss: 671.7768\n",
      "Epoch 3/50\n",
      "1000/1000 [==============================] - 44s 44ms/step - loss: 537.4247 - val_loss: 357.6892\n",
      "Epoch 4/50\n",
      "1000/1000 [==============================] - 44s 44ms/step - loss: 349.2629 - val_loss: 451.5533\n",
      "Epoch 5/50\n",
      "1000/1000 [==============================] - 44s 44ms/step - loss: 287.3884 - val_loss: 236.2377\n",
      "Epoch 6/50\n",
      "1000/1000 [==============================] - 44s 44ms/step - loss: 238.6670 - val_loss: 477.3434\n",
      "Epoch 7/50\n",
      "1000/1000 [==============================] - 44s 44ms/step - loss: 204.7415 - val_loss: 158.2632\n",
      "Epoch 8/50\n",
      "1000/1000 [==============================] - 44s 44ms/step - loss: 187.7303 - val_loss: 170.2438\n",
      "Epoch 9/50\n",
      "1000/1000 [==============================] - 44s 44ms/step - loss: 191.1955 - val_loss: 212.7273\n",
      "Epoch 10/50\n",
      "1000/1000 [==============================] - 44s 44ms/step - loss: 165.6593 - val_loss: 143.0544\n",
      "Epoch 11/50\n",
      "1000/1000 [==============================] - 44s 44ms/step - loss: 167.8410 - val_loss: 179.7826\n",
      "Epoch 12/50\n",
      "1000/1000 [==============================] - 44s 44ms/step - loss: 157.5205 - val_loss: 292.9254\n",
      "Epoch 13/50\n",
      "1000/1000 [==============================] - 44s 44ms/step - loss: 157.1419 - val_loss: 136.5297\n",
      "Epoch 14/50\n",
      "1000/1000 [==============================] - 44s 44ms/step - loss: 152.3692 - val_loss: 172.3040\n",
      "Epoch 15/50\n",
      "1000/1000 [==============================] - 44s 44ms/step - loss: 147.4824 - val_loss: 154.1765\n",
      "Epoch 16/50\n",
      "1000/1000 [==============================] - 44s 44ms/step - loss: 146.5531 - val_loss: 133.5573\n",
      "Epoch 17/50\n",
      "1000/1000 [==============================] - 44s 44ms/step - loss: 146.6139 - val_loss: 203.9342\n",
      "Epoch 18/50\n",
      "1000/1000 [==============================] - 44s 44ms/step - loss: 149.1225 - val_loss: 208.0362\n",
      "Epoch 19/50\n",
      "1000/1000 [==============================] - 44s 44ms/step - loss: 142.9908 - val_loss: 174.3617\n",
      "Epoch 20/50\n",
      "1000/1000 [==============================] - 44s 44ms/step - loss: 143.3082 - val_loss: 143.8173\n",
      "Epoch 21/50\n",
      "1000/1000 [==============================] - 44s 44ms/step - loss: 144.0691 - val_loss: 152.6480\n",
      "Epoch 22/50\n",
      "1000/1000 [==============================] - 44s 44ms/step - loss: 140.2483 - val_loss: 144.1922\n",
      "Epoch 23/50\n",
      "1000/1000 [==============================] - 44s 44ms/step - loss: 139.7449 - val_loss: 144.0105\n",
      "Epoch 24/50\n",
      "1000/1000 [==============================] - 44s 44ms/step - loss: 136.8906 - val_loss: 139.3224\n",
      "Epoch 25/50\n",
      "1000/1000 [==============================] - 44s 44ms/step - loss: 138.9455 - val_loss: 151.2260\n",
      "Epoch 26/50\n",
      "1000/1000 [==============================] - 44s 44ms/step - loss: 137.6339 - val_loss: 127.7968\n",
      "Epoch 27/50\n",
      "1000/1000 [==============================] - 44s 44ms/step - loss: 139.9496 - val_loss: 165.7422\n",
      "Epoch 28/50\n",
      "1000/1000 [==============================] - 44s 44ms/step - loss: 136.8045 - val_loss: 156.7233\n",
      "Epoch 29/50\n",
      "1000/1000 [==============================] - 44s 44ms/step - loss: 135.5487 - val_loss: 125.6221\n",
      "Epoch 30/50\n",
      "1000/1000 [==============================] - 44s 44ms/step - loss: 133.6715 - val_loss: 127.0627\n",
      "Epoch 31/50\n",
      "1000/1000 [==============================] - 44s 44ms/step - loss: 133.9372 - val_loss: 156.9487\n",
      "Epoch 32/50\n",
      "1000/1000 [==============================] - 44s 44ms/step - loss: 136.6049 - val_loss: 130.9660\n",
      "Epoch 33/50\n",
      "1000/1000 [==============================] - 44s 44ms/step - loss: 135.9050 - val_loss: 151.0594\n",
      "Epoch 34/50\n",
      "1000/1000 [==============================] - 44s 44ms/step - loss: 134.4038 - val_loss: 126.4266\n",
      "Epoch 35/50\n",
      "1000/1000 [==============================] - 44s 44ms/step - loss: 137.0493 - val_loss: 230.3913\n",
      "Epoch 36/50\n",
      "1000/1000 [==============================] - 44s 44ms/step - loss: 132.6094 - val_loss: 126.7306\n",
      "Epoch 37/50\n",
      "1000/1000 [==============================] - 44s 44ms/step - loss: 131.4380 - val_loss: 178.6007\n",
      "Epoch 38/50\n",
      "1000/1000 [==============================] - 44s 44ms/step - loss: 132.1156 - val_loss: 132.0838\n",
      "Epoch 39/50\n",
      "1000/1000 [==============================] - 44s 44ms/step - loss: 134.0120 - val_loss: 141.0724\n",
      "Epoch 40/50\n",
      "1000/1000 [==============================] - 44s 44ms/step - loss: 133.4853 - val_loss: 136.4366\n",
      "Epoch 41/50\n",
      "1000/1000 [==============================] - 44s 44ms/step - loss: 137.0114 - val_loss: 166.4426\n",
      "Epoch 42/50\n",
      "1000/1000 [==============================] - 44s 44ms/step - loss: 133.2845 - val_loss: 166.8613\n",
      "Epoch 43/50\n",
      "1000/1000 [==============================] - 44s 44ms/step - loss: 130.9857 - val_loss: 127.3879\n",
      "Epoch 44/50\n",
      "1000/1000 [==============================] - 44s 44ms/step - loss: 130.7352 - val_loss: 125.9841\n",
      "Epoch 45/50\n",
      "1000/1000 [==============================] - 44s 44ms/step - loss: 130.2472 - val_loss: 138.3738\n",
      "Epoch 46/50\n",
      "1000/1000 [==============================] - 44s 44ms/step - loss: 130.5008 - val_loss: 126.9510\n",
      "Epoch 47/50\n",
      "1000/1000 [==============================] - 44s 44ms/step - loss: 129.5041 - val_loss: 125.4797\n",
      "Epoch 48/50\n",
      "1000/1000 [==============================] - 44s 44ms/step - loss: 129.7373 - val_loss: 131.5467\n",
      "Epoch 49/50\n",
      "1000/1000 [==============================] - 44s 44ms/step - loss: 131.2482 - val_loss: 162.9970\n",
      "Epoch 50/50\n",
      "1000/1000 [==============================] - 44s 44ms/step - loss: 129.8881 - val_loss: 128.1092\n"
     ]
    }
   ],
   "source": [
    "def CNN1(input_img,num_layers):\n",
    "    x = Conv2D(64,(3,3),padding='same',activation = 'relu')(input_img)\n",
    "    for i in range(num_layers):\n",
    "        x = Conv2D(64,(3,3),padding='same',activation='relu')(x)\n",
    "        x = BatchNormalization(axis=1)(x)\n",
    "    y = Conv2D(1,(3,3),padding='same')(x)\n",
    "    CNN = Model(input_img,y)\n",
    "    CNN.compile(optimizer='adam',loss='mse')\n",
    "    return CNN\n",
    "\n",
    "num_CNN_layers = 10\n",
    "Epoch = 50\n",
    "tmp_input = Input(shape=(128,128,1), name='tmp_input')\n",
    "tmp_model = CNN1(tmp_input,num_CNN_layers)\n",
    "history=tmp_model.fit(train_xl,train_xh,epochs=Epoch,batch_size=8,shuffle=True,verbose=1,validation_data=(test_xl, test_xh))"
   ]
  },
  {
   "cell_type": "code",
   "execution_count": 11,
   "metadata": {},
   "outputs": [
    {
     "data": {
      "text/plain": [
       "<matplotlib.legend.Legend at 0x7f227f223048>"
      ]
     },
     "execution_count": 11,
     "metadata": {},
     "output_type": "execute_result"
    },
    {
     "data": {
      "image/png": "[encoded data removed]",
      "text/plain": [
       "<matplotlib.figure.Figure at 0x7f227c571d30>"
      ]
     },
     "metadata": {},
     "output_type": "display_data"
    }
   ],
   "source": [
    "import pylab as pl\n",
    "pl.figure()\n",
    "pl.plot(history.history['loss'], label='train loss')\n",
    "pl.plot(history.history['val_loss'], c='g', label='val loss')\n",
    "pl.legend()"
   ]
  },
  {
   "cell_type": "code",
   "execution_count": 12,
   "metadata": {},
   "outputs": [],
   "source": [
    "tmp_model.save(\"CNN10_MSE_0601.h5\")\n",
    "tmp_model.save_weights(\"CNN10_MSE_0601w.h5\")"
   ]
  },
  {
   "cell_type": "code",
   "execution_count": 13,
   "metadata": {},
   "outputs": [
    {
     "name": "stdout",
     "output_type": "stream",
     "text": [
      "Average PSNR before denoising: 22.372600475223454\n",
      "Average PSNR after denoising: 27.107431536303103\n",
      "Average SSIM before denoising: 0.7476365234938761\n",
      "Average SSIM after denoising: 0.8753756951360641\n"
     ]
    }
   ],
   "source": [
    "from skimage.measure import compare_psnr, compare_ssim\n",
    "test_xd = tmp_model.predict(test_xl)\n",
    "N = test_xh.shape[0]\n",
    "denoise_imgs = np.reshape(test_xd,(N,128,128))\n",
    "ori_imgs = np.reshape(test_xh,(N,128,128))\n",
    "noisy_imgs = np.reshape(test_xl,(N,128,128))\n",
    "PSNR_noisy=[]\n",
    "PSNR_denoise=[]\n",
    "SSIM_noisy = []\n",
    "SSIM_denoise = []\n",
    "for img_index in range(N):\n",
    "    ori_img = ori_imgs[img_index]\n",
    "    noisy_img = noisy_imgs[img_index]\n",
    "    float_type = np.result_type(ori_img.dtype, noisy_img.dtype, np.float32)\n",
    "    ori_img = ori_img.astype(float_type)\n",
    "    noisy_img = noisy_img.astype(float_type)\n",
    "    denoise_img = denoise_imgs[img_index]\n",
    "    psnr_noise, psnr_denoised = compare_psnr(ori_img, noisy_img,data_range=255), compare_psnr(ori_img,denoise_img,data_range=255)\n",
    "    ssim_noise, ssim_denoised = compare_ssim(ori_img, noisy_img), compare_ssim(ori_img, denoise_img)\n",
    "    SSIM_noisy.append(ssim_noise)\n",
    "    SSIM_denoise.append(ssim_denoised)\n",
    "    PSNR_noisy.append(psnr_noise)\n",
    "    PSNR_denoise.append(psnr_denoised)\n",
    "\n",
    "print(\"Average PSNR before denoising:\",sum(PSNR_noisy)/N)\n",
    "print(\"Average PSNR after denoising:\",sum(PSNR_denoise)/N)\n",
    "print(\"Average SSIM before denoising:\",sum(SSIM_noisy)/N)\n",
    "print(\"Average SSIM after denoising:\",sum(SSIM_denoise)/N)  "
   ]
  },
  {
   "cell_type": "code",
   "execution_count": null,
   "metadata": {},
   "outputs": [],
   "source": []
  }
 ],
 "metadata": {
  "kernelspec": {
   "display_name": "Python 3",
   "language": "python",
   "name": "python3"
  },
  "language_info": {
   "codemirror_mode": {
    "name": "ipython",
    "version": 3
   },
   "file_extension": ".py",
   "mimetype": "text/x-python",
   "name": "python",
   "nbconvert_exporter": "python",
   "pygments_lexer": "ipython3",
   "version": "3.6.4"
  }
 },
 "nbformat": 4,
 "nbformat_minor": 2
}
